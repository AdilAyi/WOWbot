{
 "cells": [
  {
   "cell_type": "code",
   "execution_count": 1,
   "metadata": {},
   "outputs": [
    {
     "name": "stdout",
     "output_type": "stream",
     "text": [
      "IDS saved in: stations_ids_live.txt\n",
      "IDS saved in: stations_ids_offline.txt\n",
      "IDS saved in: stations_ids.txt\n"
     ]
    }
   ],
   "source": [
    "# Make New station IDS based on website HTML\n",
    "# 10-3-2023\n",
    "from bs4 import BeautifulSoup\n",
    "import numpy as np\n",
    "\n",
    "def get_station_ids(filename):\n",
    "    with open(filename, 'r') as f:\n",
    "        contents = f.read()\n",
    "\n",
    "        soup = BeautifulSoup(contents, 'html.parser') #get html of this state of the website\n",
    "\n",
    "        #look for all station ids on the map:\n",
    "        all_id_live = []\n",
    "        all_id_offline = []\n",
    "\n",
    "        #all stations with station NOW\n",
    "        for i in range(1, 27+1): #27 kinds of classes for blocks representing stations because of colors in legend\n",
    "            for div in soup.find_all('div', {'class': f'marker holder temperature res-{i}'}):\n",
    "                all_id_live.append(div.get('data-site-id'))\n",
    "\n",
    "        #all stations without data\n",
    "        for div in soup.find_all('div', {'class':'marker holder temperature no-data wow'}):\n",
    "            all_id_offline.append(div.get('data-site-id'))\n",
    "\n",
    "    return all_id_live, all_id_offline\n",
    "\n",
    "live_middle, offline_middle = get_station_ids('middle_netherlands.html')\n",
    "live_north, offline_north = get_station_ids('north_netherlands.html')\n",
    "live_south, offline_south = get_station_ids('south_netherlands.html')\n",
    "netherlands_live = np.unique(np.array(live_middle + live_north + live_south)).tolist()\n",
    "netherlands_offline = np.unique(np.array(offline_middle + offline_north + offline_south)).tolist()\n",
    "\n",
    "#live ids\n",
    "with open('station_ids_live.txt', 'w') as fp:\n",
    "    for item in netherlands_live:\n",
    "        # write each item on a new line\n",
    "        fp.write(\"%s\\n\" % item)\n",
    "    print(\"IDS saved in: stations_ids_live.txt\")\n",
    "\n",
    "#offline ids\n",
    "with open('station_ids_offline.txt', 'w') as fp:\n",
    "    for item in netherlands_offline:\n",
    "        # write each item on a new line\n",
    "        fp.write(\"%s\\n\" % item)\n",
    "    print(\"IDS saved in: stations_ids_offline.txt\")\n",
    "\n",
    "with open('station_ids.txt', 'w') as fp:\n",
    "    for item in netherlands_live+netherlands_offline:\n",
    "        # write each item on a new line\n",
    "        fp.write(\"%s\\n\" % item)\n",
    "    print(\"IDS saved in: stations_ids.txt\")"
   ]
  }
 ],
 "metadata": {
  "kernelspec": {
   "display_name": "base",
   "language": "python",
   "name": "python3"
  },
  "language_info": {
   "codemirror_mode": {
    "name": "ipython",
    "version": 3
   },
   "file_extension": ".py",
   "mimetype": "text/x-python",
   "name": "python",
   "nbconvert_exporter": "python",
   "pygments_lexer": "ipython3",
   "version": "3.9.13"
  },
  "orig_nbformat": 4
 },
 "nbformat": 4,
 "nbformat_minor": 2
}
